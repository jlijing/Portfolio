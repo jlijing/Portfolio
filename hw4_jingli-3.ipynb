{
  "nbformat": 4,
  "nbformat_minor": 0,
  "metadata": {
    "colab": {
      "provenance": [],
      "gpuType": "T4"
    },
    "kernelspec": {
      "name": "python3",
      "display_name": "Python 3"
    },
    "language_info": {
      "name": "python"
    },
    "accelerator": "GPU"
  },
  "cells": [
    {
      "cell_type": "code",
      "execution_count": 1,
      "metadata": {
        "id": "sKZFEUd7jgFt"
      },
      "outputs": [],
      "source": [
        "import numpy as np\n",
        "import torch\n",
        "import torch.nn as nn\n",
        "from torchvision import datasets\n",
        "from torchvision import transforms\n",
        "from torch.utils.data.sampler import SubsetRandomSampler"
      ]
    },
    {
      "cell_type": "code",
      "source": [
        "device = (\n",
        "    \"cuda\"\n",
        "    if torch.cuda.is_available()\n",
        "    else \"mps\"\n",
        "    if torch.backends.mps.is_available()\n",
        "    else \"cpu\"\n",
        ")\n",
        "print(f\"Using {device} device\")"
      ],
      "metadata": {
        "colab": {
          "base_uri": "https://localhost:8080/"
        },
        "id": "6HytwdNcnVjK",
        "outputId": "7d3cac5d-9aa4-4db3-8497-bfdd378ac94d"
      },
      "execution_count": 2,
      "outputs": [
        {
          "output_type": "stream",
          "name": "stdout",
          "text": [
            "Using cuda device\n"
          ]
        }
      ]
    },
    {
      "cell_type": "markdown",
      "source": [
        "# Data"
      ],
      "metadata": {
        "id": "fEWcVcjPSmO3"
      }
    },
    {
      "cell_type": "code",
      "source": [
        "def get_train_valid_loader(data_dir,\n",
        "                           batch_size,\n",
        "                           augment,\n",
        "                           random_seed,\n",
        "                           valid_size=0.1,\n",
        "                           shuffle=True):\n",
        "    normalize = transforms.Normalize(\n",
        "        mean=[0.4914, 0.4822, 0.4465],\n",
        "        std=[0.2023, 0.1994, 0.2010],\n",
        "    )\n",
        "\n",
        "    valid_transform = transforms.Compose([\n",
        "            transforms.Resize((128,128)),\n",
        "            transforms.ToTensor(),\n",
        "            normalize,\n",
        "    ])\n",
        "    if augment:\n",
        "        train_transform = transforms.Compose([\n",
        "            transforms.Resize((128,128)),\n",
        "            transforms.RandomCrop(120, padding=4),\n",
        "            transforms.RandomHorizontalFlip(),\n",
        "            transforms.ToTensor(),\n",
        "            normalize,\n",
        "        ])\n",
        "    else:\n",
        "        train_transform = transforms.Compose([\n",
        "            transforms.Resize((227,227)),\n",
        "            transforms.ToTensor(),\n",
        "            normalize,\n",
        "        ])\n",
        "\n",
        "    train_dataset = datasets.CIFAR10(\n",
        "        root=data_dir, train=True,\n",
        "        download=True, transform=train_transform,\n",
        "    )\n",
        "\n",
        "    valid_dataset = datasets.CIFAR10(\n",
        "        root=data_dir, train=True,\n",
        "        download=True, transform=valid_transform,\n",
        "    )\n",
        "\n",
        "    num_train = len(train_dataset)\n",
        "    indices = list(range(num_train))\n",
        "    split = int(np.floor(valid_size * num_train))\n",
        "\n",
        "    if shuffle:\n",
        "        np.random.seed(random_seed)\n",
        "        np.random.shuffle(indices)\n",
        "\n",
        "    train_idx, valid_idx = indices[split:], indices[:split]\n",
        "    train_sampler = SubsetRandomSampler(train_idx)\n",
        "    valid_sampler = SubsetRandomSampler(valid_idx)\n",
        "\n",
        "    train_loader = torch.utils.data.DataLoader(\n",
        "        train_dataset, batch_size=batch_size, sampler=train_sampler)\n",
        "\n",
        "    valid_loader = torch.utils.data.DataLoader(\n",
        "        valid_dataset, batch_size=batch_size, sampler=valid_sampler)\n",
        "\n",
        "    return (train_loader, valid_loader)\n",
        "\n",
        "\n",
        "def get_test_loader(data_dir,\n",
        "                    batch_size,\n",
        "                    shuffle=True):\n",
        "    normalize = transforms.Normalize(\n",
        "        mean=[0.485, 0.456, 0.406],\n",
        "        std=[0.229, 0.224, 0.225],\n",
        "    )\n",
        "\n",
        "    transform = transforms.Compose([\n",
        "        transforms.Resize((128,128)),\n",
        "        transforms.ToTensor(),\n",
        "        normalize,\n",
        "    ])\n",
        "\n",
        "    dataset = datasets.CIFAR10(\n",
        "        root=data_dir, train=False,\n",
        "        download=True, transform=transform,\n",
        "    )\n",
        "\n",
        "    data_loader = torch.utils.data.DataLoader(\n",
        "        dataset, batch_size=batch_size, shuffle=shuffle\n",
        "    )\n",
        "\n",
        "    return data_loader\n",
        "\n",
        "\n",
        "train_loader, valid_loader = get_train_valid_loader(data_dir = './data',\n",
        "                                                   batch_size = 64,\n",
        "                                              augment = True,random_seed = 123)\n",
        "\n",
        "test_loader = get_test_loader(data_dir = './data',\n",
        "                              batch_size = 72)"
      ],
      "metadata": {
        "colab": {
          "base_uri": "https://localhost:8080/"
        },
        "id": "BfFgIiPHnYd0",
        "outputId": "b97db237-3b5a-4723-905c-002b7a4aa0b6"
      },
      "execution_count": 3,
      "outputs": [
        {
          "output_type": "stream",
          "name": "stdout",
          "text": [
            "Downloading https://www.cs.toronto.edu/~kriz/cifar-10-python.tar.gz to ./data/cifar-10-python.tar.gz\n"
          ]
        },
        {
          "output_type": "stream",
          "name": "stderr",
          "text": [
            "100%|██████████| 170498071/170498071 [00:06<00:00, 28336023.92it/s]\n"
          ]
        },
        {
          "output_type": "stream",
          "name": "stdout",
          "text": [
            "Extracting ./data/cifar-10-python.tar.gz to ./data\n",
            "Files already downloaded and verified\n",
            "Files already downloaded and verified\n"
          ]
        }
      ]
    },
    {
      "cell_type": "markdown",
      "source": [
        "# Neural Network"
      ],
      "metadata": {
        "id": "CAac3x-pShe9"
      }
    },
    {
      "cell_type": "code",
      "source": [
        "class alex_net(nn.Module):\n",
        "    def __init__(self, num_classes=10):\n",
        "        super(alex_net, self).__init__()\n",
        "        self.layer1 = nn.Sequential(\n",
        "            nn.Conv2d(3, 96, kernel_size=11, stride=4, padding=0),\n",
        "            nn.BatchNorm2d(96),\n",
        "            nn.ReLU(),\n",
        "            nn.MaxPool2d(kernel_size = 3, stride = 2))\n",
        "        self.layer2 = nn.Sequential(\n",
        "            nn.Conv2d(96, 256, kernel_size=5, stride=1, padding=2),\n",
        "            nn.BatchNorm2d(256),\n",
        "            nn.ReLU(),\n",
        "            nn.MaxPool2d(kernel_size = 3, stride = 2))\n",
        "        self.layer3 = nn.Sequential(\n",
        "            nn.Conv2d(256, 384, kernel_size=3, stride=1, padding=1),\n",
        "            nn.BatchNorm2d(384),\n",
        "            nn.ReLU())\n",
        "        self.layer4 = nn.Sequential(\n",
        "            nn.Conv2d(384, 384, kernel_size=3, stride=1, padding=1),\n",
        "            nn.BatchNorm2d(384),\n",
        "            nn.ReLU())\n",
        "        self.layer5 = nn.Sequential(\n",
        "            nn.Conv2d(384, 256, kernel_size=3, stride=1, padding=1),\n",
        "            nn.BatchNorm2d(256),\n",
        "            nn.ReLU(),\n",
        "            nn.MaxPool2d(kernel_size = 3, stride = 2))\n",
        "        self.fc = nn.Sequential(\n",
        "            nn.Dropout(0.5),\n",
        "            nn.Linear(1024, 4096),\n",
        "            nn.ReLU())\n",
        "        self.fc1 = nn.Sequential(\n",
        "            nn.Dropout(0.5),\n",
        "            nn.Linear(4096, 4096),\n",
        "            nn.ReLU())\n",
        "        self.fc2= nn.Sequential(\n",
        "            nn.Linear(4096, num_classes))\n",
        "\n",
        "    def forward(self, x):\n",
        "        out = self.layer1(x)\n",
        "        out = self.layer2(out)\n",
        "        out = self.layer3(out)\n",
        "        out = self.layer4(out)\n",
        "        out = self.layer5(out)\n",
        "        out = out.reshape(out.size(0), -1)\n",
        "        out = self.fc(out)\n",
        "        out = self.fc1(out)\n",
        "        out = self.fc2(out)\n",
        "        return out"
      ],
      "metadata": {
        "id": "88Snbw2cooBW"
      },
      "execution_count": 4,
      "outputs": []
    },
    {
      "cell_type": "markdown",
      "source": [
        "# Referencing the notebook from class:\n",
        "\n",
        "## Create a function to define a loss function, optimizer, train the network and test\n",
        "\n",
        "### SGD was proven to be better after comparison with RMSprop"
      ],
      "metadata": {
        "id": "UqAeIcEHSNkw"
      }
    },
    {
      "cell_type": "code",
      "source": [
        "def tuning_alexnet(valid_loader, test_loader, train_loader,learning_rate,\n",
        "                   num_classes, num_epochs,weight_decay,momentum):\n",
        "\n",
        "    model = alex_net(num_classes).to(device)\n",
        "\n",
        "    criterion = nn.CrossEntropyLoss()\n",
        "    optimizer = torch.optim.SGD(model.parameters(), lr=learning_rate, weight_decay = weight_decay, momentum = momentum)\n",
        "\n",
        "    total_step = len(train_loader)\n",
        "\n",
        "    for epoch in range(num_epochs):\n",
        "        for i, (images, labels) in enumerate(train_loader):\n",
        "\n",
        "            images = images.to(device)\n",
        "            labels = labels.to(device)\n",
        "\n",
        "            outputs = model(images)\n",
        "            loss = criterion(outputs, labels)\n",
        "\n",
        "            optimizer.zero_grad()\n",
        "            loss.backward()\n",
        "            optimizer.step()\n",
        "\n",
        "        print ('Epoch [{}/{}], Step [{}/{}], Loss: {:.4f}'\n",
        "                   .format(epoch+1, num_epochs, i+1, total_step, loss.item()))\n",
        "\n",
        "    with torch.no_grad():\n",
        "        correct = 0\n",
        "        total = 0\n",
        "        for images, labels in valid_loader:\n",
        "            images = images.to(device)\n",
        "            labels = labels.to(device)\n",
        "            outputs = model(images)\n",
        "            _, predicted = torch.max(outputs.data, 1)\n",
        "            total += labels.size(0)\n",
        "            correct += (predicted == labels).sum().item()\n",
        "            del images, labels, outputs\n",
        "\n",
        "        print('Accuracy of the network on the {} validation images: {} %'.format(5000, 100 * correct/total))\n",
        "\n",
        "    with torch.no_grad():\n",
        "        correct = 0\n",
        "        total = 0\n",
        "        for images, labels in test_loader:\n",
        "            images = images.to(device)\n",
        "            labels = labels.to(device)\n",
        "            outputs = model(images)\n",
        "            _, predicted = torch.max(outputs.data, 1)\n",
        "            total += labels.size(0)\n",
        "            correct += (predicted == labels).sum().item()\n",
        "            del images, labels, outputs\n",
        "\n",
        "    print('Accuracy of the network on the {} test images: {} %'.format(10000, 100 * correct/total))\n",
        "    return (correct/total)"
      ],
      "metadata": {
        "id": "Qy10KGcKOxhy"
      },
      "execution_count": 5,
      "outputs": []
    },
    {
      "cell_type": "markdown",
      "source": [
        "# PSO for finding best hyperparameters"
      ],
      "metadata": {
        "id": "gG26eJ0HTEYz"
      }
    },
    {
      "cell_type": "code",
      "source": [
        "num_classes=10\n",
        "num_epochs=30\n",
        "\n",
        "def particle_swarm_optimization(num_dimensions, num_particles, max_iter,\n",
        "                                i_min=-10,i_max=10,bounds=None,w=0.5,c1=0.25,c2=0.75):\n",
        "\n",
        "    if bounds is None:\n",
        "        particles = [({'position': [np.random.uniform(i_min, i_max) for _ in range(num_dimensions)],\n",
        "                    'velocity': [np.random.uniform(-1, 1) for _ in range(num_dimensions)],\n",
        "                    'pbest': float('inf'),\n",
        "                    'pbest_position': None})\n",
        "                    for _ in range(num_particles)]\n",
        "    else:\n",
        "        particles = [({'position': [np.random.uniform(bounds[i][0], bounds[i][1]) for i in range(num_dimensions)],\n",
        "                    'velocity': [np.random.uniform(-1, 1) for _ in range(num_dimensions)],\n",
        "                    'pbest': float('inf'),\n",
        "                    'pbest_position': None})\n",
        "                    for _ in range(num_particles)]\n",
        "\n",
        "    gbest_value = float('inf')\n",
        "    gbest_position = None\n",
        "\n",
        "    for _ in range(max_iter):\n",
        "        for particle in particles:\n",
        "            position = particle['position']\n",
        "            velocity = particle['velocity']\n",
        "            current_value = tuning_alexnet(valid_loader, test_loader, train_loader,\n",
        "                                           learning_rate=position[0], num_classes=num_classes,\n",
        "                                           num_epochs=num_epochs,\n",
        "                                           weight_decay=position[1], momentum=position[2])\n",
        "            print(position, current_value)\n",
        "\n",
        "            if 1-current_value < particle['pbest']:\n",
        "                particle['pbest'] = current_value\n",
        "                particle['pbest_position'] = position.copy()\n",
        "\n",
        "            if 1-current_value < gbest_value:\n",
        "                gbest_value = current_value\n",
        "                gbest_position = position.copy()\n",
        "\n",
        "            for i in range(num_dimensions):\n",
        "                r1, r2 = np.random.uniform(), np.random.uniform()\n",
        "                velocity[i] = w * velocity[i] + c1*r1 * (particle['pbest_position'][i]\n",
        "                                                         - position[i]) + c2*r2 * (gbest_position[i]\n",
        "                                                                                   - position[i])\n",
        "                position[i] += velocity[i]\n",
        "                if bounds is not None:\n",
        "                    position[i] = np.clip(position[i],bounds[i][0],bounds[i][1])\n",
        "\n",
        "    return gbest_position, gbest_value"
      ],
      "metadata": {
        "id": "ckWVUEK1PeMr"
      },
      "execution_count": 21,
      "outputs": []
    },
    {
      "cell_type": "markdown",
      "source": [
        "# Results\n",
        "## Accuracy did not reach over 84%. Need more adjustments, run time were extremely long\n",
        "## 30 epochs, 30 particles\n",
        "## the pso returns the following best values for an accuracy of 83.47%\n",
        "### learning rate: 0.02457619672185781\n",
        "### weight decay: 0.0001943732997406710\n",
        "### momentum: 0.49852329844216964\n",
        "\n"
      ],
      "metadata": {
        "id": "aqiBdMlifdam"
      }
    },
    {
      "cell_type": "code",
      "source": [
        "particle_swarm_optimization(num_dimensions=3, num_particles=30, max_iter=10,\n",
        "                            i_min=-0.001,i_max=0.001,bounds=[(0.002,0.02),\n",
        "                             (0.0001,0.0002),(0.4,0.5)],w=0.2,c1=0.25,c2=0.75)\n"
      ],
      "metadata": {
        "id": "2Te-BhcOQMpF",
        "colab": {
          "base_uri": "https://localhost:8080/"
        },
        "outputId": "a193978c-e2df-49ab-f98a-08a36bdb3971"
      },
      "execution_count": null,
      "outputs": [
        {
          "output_type": "stream",
          "name": "stdout",
          "text": [
            "Epoch [1/30], Step [704/704], Loss: 1.0347\n",
            "Epoch [2/30], Step [704/704], Loss: 1.6370\n",
            "Epoch [3/30], Step [704/704], Loss: 0.4174\n",
            "Epoch [4/30], Step [704/704], Loss: 0.2879\n",
            "Epoch [5/30], Step [704/704], Loss: 0.8862\n",
            "Epoch [6/30], Step [704/704], Loss: 0.0297\n",
            "Epoch [7/30], Step [704/704], Loss: 0.5063\n",
            "Epoch [8/30], Step [704/704], Loss: 0.5067\n",
            "Epoch [9/30], Step [704/704], Loss: 0.6071\n",
            "Epoch [10/30], Step [704/704], Loss: 1.2056\n",
            "Epoch [11/30], Step [704/704], Loss: 0.1369\n",
            "Epoch [12/30], Step [704/704], Loss: 0.4582\n",
            "Epoch [13/30], Step [704/704], Loss: 0.2994\n",
            "Epoch [14/30], Step [704/704], Loss: 0.2530\n",
            "Epoch [15/30], Step [704/704], Loss: 0.8787\n",
            "Epoch [16/30], Step [704/704], Loss: 0.5401\n",
            "Epoch [17/30], Step [704/704], Loss: 0.3267\n",
            "Epoch [18/30], Step [704/704], Loss: 0.3231\n",
            "Epoch [19/30], Step [704/704], Loss: 0.3159\n",
            "Epoch [20/30], Step [704/704], Loss: 0.3286\n",
            "Epoch [21/30], Step [704/704], Loss: 0.1119\n",
            "Epoch [22/30], Step [704/704], Loss: 0.3695\n",
            "Epoch [23/30], Step [704/704], Loss: 0.9328\n",
            "Epoch [24/30], Step [704/704], Loss: 0.5012\n",
            "Epoch [25/30], Step [704/704], Loss: 0.2348\n",
            "Epoch [26/30], Step [704/704], Loss: 0.5809\n",
            "Epoch [27/30], Step [704/704], Loss: 0.2163\n",
            "Epoch [28/30], Step [704/704], Loss: 0.6160\n",
            "Epoch [29/30], Step [704/704], Loss: 0.0261\n",
            "Epoch [30/30], Step [704/704], Loss: 0.2066\n",
            "Accuracy of the network on the 5000 validation images: 83.12 %\n",
            "Accuracy of the network on the 10000 test images: 83.47 %\n",
            "[0.02457619672185781, 0.00019437329974067105, 0.49852329844216964] 0.8347\n",
            "Epoch [1/30], Step [704/704], Loss: 1.4074\n",
            "Epoch [2/30], Step [704/704], Loss: 0.5075\n",
            "Epoch [3/30], Step [704/704], Loss: 0.7667\n"
          ]
        }
      ]
    }
  ]
}